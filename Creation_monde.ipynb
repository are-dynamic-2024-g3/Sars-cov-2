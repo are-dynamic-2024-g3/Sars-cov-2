{
 "cells": [
  {
   "cell_type": "code",
   "execution_count": 3,
   "id": "a23dca27-7e5c-4ebe-80f5-5e97d2c0e749",
   "metadata": {},
   "outputs": [],
   "source": [
    "import numpy as np\n",
    "import random\n",
    "\n",
    "from matplotlib import pyplot as plt\n"
   ]
  },
  {
   "cell_type": "code",
   "execution_count": 37,
   "id": "f9527b9d-13e3-4694-a2f4-93c56f958dcc",
   "metadata": {},
   "outputs": [],
   "source": [
    "# paramètres\n",
    "#taille monde:\n",
    "n = 5\n",
    "m = 5\n",
    "#taux d'infection :\n",
    "rzero = 2"
   ]
  },
  {
   "cell_type": "code",
   "execution_count": 58,
   "id": "b2c00f1c-c213-4fdf-ac20-6facfe9021c8",
   "metadata": {},
   "outputs": [
    {
     "name": "stdout",
     "output_type": "stream",
     "text": [
      "[[0 0 0 0 0]\n",
      " [0 0 0 0 0]\n",
      " [0 0 0 None 0]\n",
      " [0 0 0 0 0]\n",
      " [0 None 0 0 0]]\n"
     ]
    }
   ],
   "source": [
    "def generate_spatial_world(n,m):\n",
    "    return np.random.choice([0,None],size=(n,m),p = [0.9,0.1])\n",
    "world = generate_spatial_world(n,m)\n",
    "worldbis = generate_spatial_world(n,m)\n",
    "print(world)"
   ]
  },
  {
   "cell_type": "code",
   "execution_count": 57,
   "id": "a9a99ac9-d803-41b9-8e00-5a5d4e174060",
   "metadata": {},
   "outputs": [
    {
     "data": {
      "text/plain": [
       "array([[0, 0, 0, 0, 0],\n",
       "       [None, 0, 0, 0, 0],\n",
       "       [0, None, 0, 0, 1],\n",
       "       [0, 0, 0, 0, 0],\n",
       "       [0, 0, 0, 0, 0]], dtype=object)"
      ]
     },
     "execution_count": 57,
     "metadata": {},
     "output_type": "execute_result"
    }
   ],
   "source": [
    "def infection_world(world):\n",
    "    while True:\n",
    "        n = random.randint(0,len(world[:,0])-1)\n",
    "        m = random.randint(0,len(world[0,:])-1)\n",
    "        if world[n,m] == 0:\n",
    "            world[n,m] = 1\n",
    "            break\n",
    "    return world\n",
    "infection_world(world)"
   ]
  },
  {
   "cell_type": "code",
   "execution_count": null,
   "id": "90930edc-974f-481c-8faa-0e3bd83abdfa",
   "metadata": {},
   "outputs": [],
   "source": []
  },
  {
   "cell_type": "code",
   "execution_count": null,
   "id": "645e4d60-10b2-4cd9-84a8-b64f5545c992",
   "metadata": {},
   "outputs": [],
   "source": []
  }
 ],
 "metadata": {
  "kernelspec": {
   "display_name": "Python 3 (ipykernel)",
   "language": "python",
   "name": "python3"
  },
  "language_info": {
   "codemirror_mode": {
    "name": "ipython",
    "version": 3
   },
   "file_extension": ".py",
   "mimetype": "text/x-python",
   "name": "python",
   "nbconvert_exporter": "python",
   "pygments_lexer": "ipython3",
   "version": "3.9.6"
  }
 },
 "nbformat": 4,
 "nbformat_minor": 5
}
