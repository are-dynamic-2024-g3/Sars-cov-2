{
 "cells": [
  {
   "cell_type": "code",
   "execution_count": 239,
   "id": "a23dca27-7e5c-4ebe-80f5-5e97d2c0e749",
   "metadata": {},
   "outputs": [],
   "source": [
    "import numpy as np\n",
    "import random\n",
    "from matplotlib import pyplot as plt\n",
    "from tkinter import *\n",
    "from tkinter import ttk"
   ]
  },
  {
   "cell_type": "code",
   "execution_count": 240,
   "id": "eddeabeb",
   "metadata": {},
   "outputs": [],
   "source": [
    "# idée pour la gestion des temps d'infection /vaccin , création d'un deuxieme vecteur 2d comportant les durées de vie des états actuels"
   ]
  },
  {
   "cell_type": "code",
   "execution_count": 241,
   "id": "f9527b9d-13e3-4694-a2f4-93c56f958dcc",
   "metadata": {},
   "outputs": [],
   "source": [
    "# paramètres\n",
    "#taille monde:\n",
    "n = 5\n",
    "m = 5\n",
    "#taux d'infection :\n",
    "rzero = 2"
   ]
  },
  {
   "cell_type": "code",
   "execution_count": 242,
   "id": "b2c00f1c-c213-4fdf-ac20-6facfe9021c8",
   "metadata": {},
   "outputs": [],
   "source": [
    "#génère un monde de taille n,m\n",
    "\n",
    "def generate_spatial_world(n,m):\n",
    "    return np.random.choice([0,None],size=(n,m),p = [0.9,0.1])"
   ]
  },
  {
   "cell_type": "code",
   "execution_count": 243,
   "id": "a9a99ac9-d803-41b9-8e00-5a5d4e174060",
   "metadata": {},
   "outputs": [],
   "source": [
    "#génère la premiere infection aléatoire d'un monde de taille n,m\n",
    "\n",
    "def infection_world(world):\n",
    "    while True:\n",
    "        n = random.randint(0,len(world[:,0])-1)\n",
    "        m = random.randint(0,len(world[0,:])-1)\n",
    "        if world[n,m] == 0:\n",
    "            world[n,m] = 1\n",
    "            break\n",
    "    return world"
   ]
  },
  {
   "cell_type": "code",
   "execution_count": 244,
   "id": "90930edc-974f-481c-8faa-0e3bd83abdfa",
   "metadata": {},
   "outputs": [],
   "source": [
    "#infecte la cellule x,y, si elle n'est pas vaccinée\n",
    "\n",
    "def infection_cellule(world,x,y):\n",
    "    worldc = world\n",
    "    if world[x,y] != 2:\n",
    "        worldc[x,y] = 1\n",
    "    return worldc"
   ]
  },
  {
   "cell_type": "code",
   "execution_count": 245,
   "id": "46b210c2",
   "metadata": {},
   "outputs": [],
   "source": [
    "#génère un tableau en 1d du voisinage de la case nm\n",
    "\n",
    "def voisins(world,n,m):\n",
    "    voisins=[]\n",
    "    for i in range(0,len(world[0,:])):\n",
    "        for j in range(0,len(world[:,0])):\n",
    "            if max(abs(i-n),abs(j-m))<=1 and not(i==n and j == m) :\n",
    "                voisins.append(world[i,j])\n",
    "    return voisins"
   ]
  },
  {
   "cell_type": "code",
   "execution_count": 246,
   "id": "3e80a7d5",
   "metadata": {},
   "outputs": [],
   "source": [
    "#vérifie si il y autre chose que des malades et cases vides dans le voisinage\n",
    "\n",
    "def verif_voisins(world,n,m):\n",
    "    for i in voisins(world,n,m):\n",
    "        if i != None and i!= 1:\n",
    "            return True\n",
    "    return False"
   ]
  },
  {
   "cell_type": "code",
   "execution_count": 247,
   "id": "645e4d60-10b2-4cd9-84a8-b64f5545c992",
   "metadata": {
    "scrolled": true
   },
   "outputs": [],
   "source": [
    "#fais évoluer le monde en effectuant un tour( pour le moment seul les nouvels infections sont gérées)\n",
    "\n",
    "def tour(world,rzero):\n",
    "    worldbis = world\n",
    "    for i in range (0,len(world[:,0])-1):\n",
    "        for j in range ( 0, len(world[0,:])-1):\n",
    "            if world[i,j] == 1 and verif_voisins(worldbis,i,j):\n",
    "                nb = 0 \n",
    "                while nb < rzero and verif_voisins(worldbis,i,j):\n",
    "                    x = i + (random.randint(-1,1))\n",
    "                    y = j + (random.randint(-1,1))\n",
    "                    if (x >= 0 and x <= len(world[:,0])-1) and (y>= 0 and y<= len(world[0,:])-1):\n",
    "                        if worldbis[x,y] != None and worldbis[x,y]!= 1:\n",
    "                            worldbis = infection_cellule(worldbis,x,y)\n",
    "                            nb += 1\n",
    "    return worldbis"
   ]
  },
  {
   "cell_type": "code",
   "execution_count": 248,
   "id": "b7d226e1",
   "metadata": {},
   "outputs": [],
   "source": [
    "#effectue le deplacement d'un membre du monde choisi de manière aléatoire\n",
    "\n",
    "def deplacement(world):\n",
    "    worldbis = world\n",
    "    x1 = random.randint(0,len(world[:,0])-1)\n",
    "    y1 = random.randint(0,len(world[0,:])-1)\n",
    "    x2 = random.randint(0,len(world[:,0])-1)\n",
    "    y2 = random.randint(0,len(world[0,:])-1)  \n",
    "    while world[x1,y1] == None or (x1 == x2 and y1 == y2):\n",
    "        x1 = random.randint(0,len(world[:,0])-1)\n",
    "        y1 = random.randint(0,len(world[0,:])-1) \n",
    "    worldbis[x2,y2] = world[x1,y1]\n",
    "    worldbis[x1,y1] = world[x2,y2]\n",
    "    return world"
   ]
  },
  {
   "cell_type": "code",
   "execution_count": 249,
   "id": "f00587cf",
   "metadata": {},
   "outputs": [
    {
     "data": {
      "text/plain": [
       "array([[1, 1, 1, None, 1],\n",
       "       [1, 1, 1, 1, 1],\n",
       "       [1, 1, 1, None, 1],\n",
       "       [1, 1, 1, 1, 1],\n",
       "       [1, 1, 1, 1, 1]], dtype=object)"
      ]
     },
     "execution_count": 249,
     "metadata": {},
     "output_type": "execute_result"
    }
   ],
   "source": [
    "#effectue x tour d'évolution du monde en ajoutant un déplacement aléatoire tous les freq_depla tours \n",
    "\n",
    "def tour_boucle(world,rzero,nbtour,freq_depla):\n",
    "    i = 0\n",
    "    while i < nbtour:\n",
    "        if i%freq_depla == 0:\n",
    "            world = deplacement(world)\n",
    "        world = tour(world,rzero)\n",
    "        i+= 1\n",
    "    return world\n",
    "\n",
    "tour_boucle(world,rzero,5,2)"
   ]
  },
  {
   "cell_type": "code",
   "execution_count": 251,
   "id": "9cf03995",
   "metadata": {},
   "outputs": [
    {
     "data": {
      "text/plain": [
       "(array([[1, None, 1, 1, 1],\n",
       "        [1, 1, 1, 1, 1],\n",
       "        [1, 1, None, 1, 1],\n",
       "        [1, 1, 1, 1, 1],\n",
       "        [1, 1, 1, 1, 1]], dtype=object),\n",
       " array([[1, None, 1, 1, 1],\n",
       "        [1, 1, 1, 1, 1],\n",
       "        [1, 1, None, 1, 1],\n",
       "        [1, 1, 1, 1, 1],\n",
       "        [1, 1, 1, 1, 1]], dtype=object))"
      ]
     },
     "execution_count": 251,
     "metadata": {},
     "output_type": "execute_result"
    }
   ],
   "source": [
    "def cycle_entier(n,m,nbtour,freq_depla,rzero):\n",
    "    world = generate_spatial_world(n,m)\n",
    "    world = infection_world(world)\n",
    "    worldeux = world\n",
    "    world = tour_boucle(world,rzero,nbtour,freq_depla)\n",
    "    worldeux = tour_boucle(worldeux,rzero,nbtour,freq_depla)\n",
    "    return world , worldeux\n",
    "    \n",
    "cycle_entier(n,m,10,5,2)"
   ]
  },
  {
   "cell_type": "code",
   "execution_count": 252,
   "id": "3903bc44",
   "metadata": {},
   "outputs": [],
   "source": [
    "#essaie tkinter\n",
    "def fenetre(x):\n",
    "    fenetre = Tk()\n",
    "    fenetre.geometry('400x400')\n",
    "    fenetre.title('Sars-CoV2')\n",
    "    fenetre.resizable(height = True, width = True)\n",
    "    fenetre['bg'] = 'black'\n",
    "    fenetre.mainloop()\n",
    "\n",
    "fenetre(1)"
   ]
  },
  {
   "cell_type": "code",
   "execution_count": null,
   "id": "7f865a22",
   "metadata": {},
   "outputs": [],
   "source": []
  }
 ],
 "metadata": {
  "kernelspec": {
   "display_name": "Python 3 (ipykernel)",
   "language": "python",
   "name": "python3"
  },
  "language_info": {
   "codemirror_mode": {
    "name": "ipython",
    "version": 3
   },
   "file_extension": ".py",
   "mimetype": "text/x-python",
   "name": "python",
   "nbconvert_exporter": "python",
   "pygments_lexer": "ipython3",
   "version": "3.11.5"
  }
 },
 "nbformat": 4,
 "nbformat_minor": 5
}
