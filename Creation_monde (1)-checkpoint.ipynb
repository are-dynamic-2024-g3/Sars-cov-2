{
 "cells": [
  {
   "cell_type": "code",
   "execution_count": 1,
   "id": "a23dca27-7e5c-4ebe-80f5-5e97d2c0e749",
   "metadata": {},
   "outputs": [],
   "source": [
    "import numpy as np\n",
    "import random\n",
    "from matplotlib import pyplot as plt\n",
    "from tkinter import *\n",
    "from tkinter import ttk\n",
    "from turtle import *"
   ]
  },
  {
   "cell_type": "code",
   "execution_count": 2,
   "id": "eddeabeb",
   "metadata": {},
   "outputs": [],
   "source": [
    "# idée pour la gestion des temps d'infection /vaccin , création d'un deuxieme vecteur 2d comportant les durées de vie des états actuels\n",
    "\n",
    "#création d'un monde parallele:\n",
    "\n",
    "def desinfection()"
   ]
  },
  {
   "cell_type": "code",
   "execution_count": 3,
   "id": "f9527b9d-13e3-4694-a2f4-93c56f958dcc",
   "metadata": {},
   "outputs": [],
   "source": [
    "# paramètres\n",
    "#taille monde:\n",
    "\n",
    "n = 5\n",
    "m = 7\n",
    "\n",
    "#taux d'infection :\n",
    "\n",
    "rzero = 2\n",
    "\n",
    "#durée de vie virus et vaccin :\n",
    "\n",
    "duréeinfection = 3\n",
    "duréevaccin = 12\n",
    "\n",
    "#taux d'efficacité du vaccin : \n",
    "\n",
    "tauximmun = 80"
   ]
  },
  {
   "cell_type": "code",
   "execution_count": 4,
   "id": "b2c00f1c-c213-4fdf-ac20-6facfe9021c8",
   "metadata": {},
   "outputs": [
    {
     "data": {
      "text/plain": [
       "array([[0, 0, None, 0, 0, 0, 0],\n",
       "       [0, 0, 0, 0, 0, 0, 0],\n",
       "       [None, 0, None, 0, 0, 0, 0],\n",
       "       [0, 0, 0, 0, 0, 0, 0],\n",
       "       [0, 0, 0, 0, 0, 0, 0]], dtype=object)"
      ]
     },
     "execution_count": 4,
     "metadata": {},
     "output_type": "execute_result"
    }
   ],
   "source": [
    "#génère un monde de taille n,m\n",
    "\n",
    "def generate_spatial_world(n,m):\n",
    "    return np.random.choice([0,None],size=(n,m),p = [0.9,0.1])\n",
    "worldtest = generate_spatial_world(n,m)\n",
    "worldtest"
   ]
  },
  {
   "cell_type": "code",
   "execution_count": 5,
   "id": "a9a99ac9-d803-41b9-8e00-5a5d4e174060",
   "metadata": {},
   "outputs": [],
   "source": [
    "#génère la premiere infection aléatoire d'un monde de taille n,m\n",
    "\n",
    "def infection_world(world):\n",
    "    while True:\n",
    "        n = random.randint(0,len(world[:,0])-1)\n",
    "        m = random.randint(0,len(world[0,:])-1)\n",
    "        if world[n,m] == 0:\n",
    "            world[n,m] = 1\n",
    "            break\n",
    "    return world"
   ]
  },
  {
   "cell_type": "code",
   "execution_count": 6,
   "id": "90930edc-974f-481c-8faa-0e3bd83abdfa",
   "metadata": {},
   "outputs": [],
   "source": [
    "#infecte la cellule x,y, si elle n'est pas vaccinée\n",
    "\n",
    "def infection_cellule(world,x,y):\n",
    "    worldc = world\n",
    "    if world[x,y] != 2:\n",
    "        worldc[x,y] = 1\n",
    "    return world"
   ]
  },
  {
   "cell_type": "code",
   "execution_count": 7,
   "id": "46b210c2",
   "metadata": {},
   "outputs": [],
   "source": [
    "#génère un tableau en 1d du voisinage de la case nm\n",
    "\n",
    "def voisins(world,n,m):\n",
    "    voisins=[]\n",
    "    for i in range(0,len(world[:,0])):\n",
    "        for j in range(0,len(world[0,:])):\n",
    "            if max(abs(i-n),abs(j-m))<=1 and not(i==n and j == m) :\n",
    "                voisins.append(world[i,j])\n",
    "    return voisins"
   ]
  },
  {
   "cell_type": "code",
   "execution_count": 8,
   "id": "3e80a7d5",
   "metadata": {},
   "outputs": [],
   "source": [
    "#vérifie si il y autre chose que des malades et cases vides dans le voisinage\n",
    "\n",
    "def verif_voisins(world,n,m):\n",
    "    for i in voisins(world,n,m):\n",
    "        if i != None and i!= 1:\n",
    "            return True\n",
    "    return False"
   ]
  },
  {
   "cell_type": "code",
   "execution_count": 9,
   "id": "645e4d60-10b2-4cd9-84a8-b64f5545c992",
   "metadata": {
    "scrolled": true
   },
   "outputs": [],
   "source": [
    "#fais évoluer le monde en effectuant un tour( pour le moment seul les nouvels infections sont gérées)\n",
    "\n",
    "def tour(world,rzero):\n",
    "    worldbis = world\n",
    "    for i in range (0, len(world[:,0])):\n",
    "        for j in range ( 0, len(world[0,:])):\n",
    "            if world[i,j] == 1 and verif_voisins(worldbis,i,j):\n",
    "                nb = 0 \n",
    "                while nb < rzero and verif_voisins(worldbis,i,j):\n",
    "                    x = i + (random.randint(-1,1))\n",
    "                    y = j + (random.randint(-1,1))\n",
    "                    if (x >= 0 and x <= len(world[:,0])-1) and (y>= 0 and y<= len(world[0,:])-1):\n",
    "                        if worldbis[x,y] != None and worldbis[x,y]!= 1:\n",
    "                            worldbis = infection_cellule(worldbis,x,y)\n",
    "                            nb += 1\n",
    "    return worldbis\n"
   ]
  },
  {
   "cell_type": "code",
   "execution_count": 10,
   "id": "b7d226e1",
   "metadata": {},
   "outputs": [],
   "source": [
    "#effectue le deplacement d'un membre du monde choisi de manière aléatoire\n",
    "\n",
    "def deplacement(world):\n",
    "    worldbis = world\n",
    "    x1 = random.randint(0,len(world[:,0])-1)\n",
    "    y1 = random.randint(0,len(world[0,:])-1)\n",
    "    x2 = random.randint(0,len(world[:,0])-1)\n",
    "    y2 = random.randint(0,len(world[0,:])-1)  \n",
    "    while world[x1,y1] == None or (x1 == x2 and y1 == y2):\n",
    "        x1 = random.randint(0,len(world[:,0])-1)\n",
    "        y1 = random.randint(0,len(world[0,:])-1) \n",
    "    worldbis[x2,y2] = world[x1,y1]\n",
    "    worldbis[x1,y1] = world[x2,y2]\n",
    "    return world"
   ]
  },
  {
   "cell_type": "code",
   "execution_count": 11,
   "id": "f00587cf",
   "metadata": {},
   "outputs": [],
   "source": [
    "#effectue x tour d'évolution du monde en ajoutant un déplacement aléatoire tous les freq_depla tours \n",
    "\n",
    "def tour_boucle(world,rzero,nbtour,freq_depla):\n",
    "    i = 0\n",
    "    while i < nbtour:\n",
    "        if i%freq_depla == 0:\n",
    "            world = deplacement(world)\n",
    "        world = tour(world,rzero)\n",
    "        i+= 1\n",
    "    return world"
   ]
  },
  {
   "cell_type": "code",
   "execution_count": 12,
   "id": "9cf03995",
   "metadata": {},
   "outputs": [],
   "source": [
    "def cycle_entier(n,m,nbtour,freq_depla,rzero):\n",
    "    world = generate_spatial_world(n,m)\n",
    "    world = infection_world(world)\n",
    "    worldeux = world\n",
    "    world = tour_boucle(world,rzero,nbtour,freq_depla)\n",
    "    worldeux = tour_boucle(worldeux,rzero,nbtour,freq_depla)\n",
    "    return world , worldeux\n",
    "    \n",
    "cycle_entier(n,m,10,5,2)\n",
    "\n",
    "def print_cycle_entier(n,m,nbtour,freq_depla,rzero):\n",
    "    print( cycle_entier(n,m,nbtour,freq_depla,rzero))\n"
   ]
  },
  {
   "cell_type": "code",
   "execution_count": 13,
   "id": "3903bc44",
   "metadata": {},
   "outputs": [],
   "source": [
    "#essaie tkinter\n",
    "def fenetre():\n",
    "    fenetre = Tk()\n",
    "    fenetre.geometry('800x800')\n",
    "    fenetre.title('Sars-CoV2')\n",
    "    fenetre['bg'] = 'black'\n",
    "    start = Button(fenetre, text =\"Simuler\" , command =lambda: print_cycle_entier(n,m,10,5,2))\n",
    "    start.pack()\n",
    "    end = Button(fenetre ,text = \"FERMER\" , command = fenetre.destroy)\n",
    "    end.pack()\n",
    "    fenetre.mainloop()\n",
    "fenetre()\n"
   ]
  },
  {
   "cell_type": "code",
   "execution_count": null,
   "id": "24c80ec1-2f11-4921-83c4-0d6905e3ae59",
   "metadata": {},
   "outputs": [],
   "source": []
  },
  {
   "cell_type": "code",
   "execution_count": null,
   "id": "d3dfe414-29dd-4cec-aeb8-352cc911e1eb",
   "metadata": {},
   "outputs": [],
   "source": []
  },
  {
   "cell_type": "code",
   "execution_count": null,
   "id": "6427510c-46a6-4df5-bba6-611adb11fedf",
   "metadata": {},
   "outputs": [],
   "source": []
  }
 ],
 "metadata": {
  "kernelspec": {
   "display_name": "Python 3 (ipykernel)",
   "language": "python",
   "name": "python3"
  },
  "language_info": {
   "codemirror_mode": {
    "name": "ipython",
    "version": 3
   },
   "file_extension": ".py",
   "mimetype": "text/x-python",
   "name": "python",
   "nbconvert_exporter": "python",
   "pygments_lexer": "ipython3",
   "version": "3.11.5"
  }
 },
 "nbformat": 4,
 "nbformat_minor": 5
}
