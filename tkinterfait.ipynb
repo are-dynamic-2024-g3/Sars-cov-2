{
 "cells": [
  {
   "cell_type": "code",
   "execution_count": 19,
   "id": "a23dca27-7e5c-4ebe-80f5-5e97d2c0e749",
   "metadata": {},
   "outputs": [],
   "source": [
    "import numpy as np\n",
    "import random\n",
    "from matplotlib import pyplot as plt\n",
    "from tkinter import *\n",
    "import time\n"
   ]
  },
  {
   "cell_type": "code",
   "execution_count": null,
   "id": "eddeabeb",
   "metadata": {},
   "outputs": [],
   "source": []
  },
  {
   "cell_type": "code",
   "execution_count": 20,
   "id": "f9527b9d-13e3-4694-a2f4-93c56f958dcc",
   "metadata": {},
   "outputs": [],
   "source": [
    "# paramètres\n",
    "#taille monde:\n",
    "\n",
    "n = 10\n",
    "m = 10\n",
    "nb_tour = 15\n",
    "#taux d'infection :\n",
    "\n",
    "rzero = 2\n",
    "\n",
    "#durée de vie virus et vaccin :\n",
    "\n",
    "duree_infection = 3\n",
    "duree_vaccin = 12\n",
    "\n",
    "#taux vaccinal :\n",
    "\n",
    "taux_immun = 0.95\n",
    "\n",
    "freq_vaccin = 1\n",
    "freq_depla = 4"
   ]
  },
  {
   "cell_type": "code",
   "execution_count": 21,
   "id": "b2c00f1c-c213-4fdf-ac20-6facfe9021c8",
   "metadata": {},
   "outputs": [
    {
     "data": {
      "text/plain": [
       "array([[1, 1, 0, 1, 1, 1, 1, 1, 1, 1],\n",
       "       [1, 1, 1, 0, 1, 1, 1, 1, 1, 1],\n",
       "       [1, 1, 1, 1, 1, 1, 1, 1, 1, 1],\n",
       "       [1, 1, 1, 1, 1, 1, 1, 0, 1, 1],\n",
       "       [1, 1, 1, 0, 1, 1, 1, 0, 1, 1],\n",
       "       [1, 1, 1, 0, 1, 1, 1, 1, 1, 1],\n",
       "       [0, 1, 0, 1, 1, 1, 1, 1, 1, 0],\n",
       "       [1, 1, 1, 1, 1, 1, 1, 1, 1, 1],\n",
       "       [1, 1, 1, 1, 1, 0, 1, 1, 1, 1],\n",
       "       [1, 1, 1, 1, 1, 1, 1, 1, 1, 1]])"
      ]
     },
     "execution_count": 21,
     "metadata": {},
     "output_type": "execute_result"
    }
   ],
   "source": [
    "#génère un monde de taille n,m\n",
    "\n",
    "def generate_spatial_world(n,m):\n",
    "    return np.random.choice([1,0],size=(n,m),p = [0.9,0.1])\n",
    "worldtest = generate_spatial_world(n,m)\n",
    "worldtest"
   ]
  },
  {
   "cell_type": "code",
   "execution_count": 22,
   "id": "a9a99ac9-d803-41b9-8e00-5a5d4e174060",
   "metadata": {},
   "outputs": [
    {
     "data": {
      "text/plain": [
       "array([[1, 1, 0, 1, 1, 1, 1, 1, 1, 1],\n",
       "       [1, 1, 1, 0, 1, 1, 1, 1, 1, 1],\n",
       "       [1, 1, 1, 1, 1, 1, 1, 1, 1, 1],\n",
       "       [1, 1, 1, 1, 1, 1, 1, 0, 2, 1],\n",
       "       [1, 1, 1, 0, 1, 1, 1, 0, 1, 1],\n",
       "       [1, 1, 1, 0, 1, 1, 1, 1, 1, 1],\n",
       "       [0, 1, 0, 1, 1, 1, 1, 1, 1, 0],\n",
       "       [1, 1, 1, 1, 1, 1, 1, 1, 1, 1],\n",
       "       [1, 1, 1, 1, 1, 0, 1, 1, 1, 1],\n",
       "       [1, 1, 1, 1, 1, 1, 1, 1, 1, 1]])"
      ]
     },
     "execution_count": 22,
     "metadata": {},
     "output_type": "execute_result"
    }
   ],
   "source": [
    "#génère la premiere infection aléatoire d'un monde de taille n,m\n",
    "\n",
    "def infection_world(world):\n",
    "    worldbis = np.copy(world)\n",
    "    while True:\n",
    "        n = random.randint(0,len(worldbis[:,0])-1)\n",
    "        m = random.randint(0,len(worldbis[0,:])-1)\n",
    "        if worldbis[n,m] == 1:\n",
    "            worldbis[n,m] = 2\n",
    "            break\n",
    "    return worldbis\n",
    "\n",
    "worldtest=infection_world(worldtest)\n",
    "\n",
    "worldtest"
   ]
  },
  {
   "cell_type": "code",
   "execution_count": 23,
   "id": "90930edc-974f-481c-8faa-0e3bd83abdfa",
   "metadata": {},
   "outputs": [],
   "source": [
    "#infecte la cellule x,y, si elle n'est pas vaccinée\n",
    "\n",
    "def infection_cellule(world,x,y):\n",
    "    worldbis = np.copy(world)\n",
    "    if world[x,y] != 3:\n",
    "        worldbis[x,y] = 2\n",
    "    return worldbis\n",
    "\n"
   ]
  },
  {
   "cell_type": "code",
   "execution_count": 24,
   "id": "b4561e61-03f5-4ad3-b7ce-eb7c32854440",
   "metadata": {},
   "outputs": [],
   "source": [
    "def infection_vaccin(world,parallele,x,y,taux_immun):\n",
    "    worldbis = np.copy(world)\n",
    "    parabis = np.copy(parallele)\n",
    "    if world[x,y] == 3:\n",
    "        chance = random.random()\n",
    "        if chance >= taux_immun:\n",
    "            worldbis[x,y] = 2\n",
    "            parabis[x,y] = 0\n",
    "    return worldbis,parabis\n",
    "\n"
   ]
  },
  {
   "cell_type": "code",
   "execution_count": 25,
   "id": "c0909dc7",
   "metadata": {},
   "outputs": [],
   "source": [
    "# idée pour la gestion des temps d'infection /vaccin , création d'un deuxieme vecteur 2d comportant les durées de vie des états actuels\n",
    "\n",
    "#création d'un monde parallele:\n",
    "\n",
    "def creation_parallele(world):\n",
    "    parallele = np.zeros((len(world[:,0]),len(world[0,:])))\n",
    "    return parallele\n",
    "\n",
    "#test\n",
    "#print(creation_parallele(worldtest))\n",
    "#print(worldtest)\n",
    "#paralleletest = creation_parallele(worldtest2)"
   ]
  },
  {
   "cell_type": "code",
   "execution_count": 26,
   "id": "2e6585b7",
   "metadata": {},
   "outputs": [],
   "source": [
    "\n",
    "#création d'un monde parallele:\n",
    "\n",
    "def desinfection(world,duree_infection,parallele):\n",
    "    worldbis = np.copy(world)\n",
    "    parabis = np.copy(parallele)\n",
    "    for i in range(len(world[:,0])):\n",
    "        for j in range(len(world[0,:])):\n",
    "            if (worldbis[i][j] == 2 and parabis[i][j] != duree_infection):\n",
    "                parabis[i][j] += 1\n",
    "            elif(worldbis[i][j] == 2 and parabis[i][j] == duree_infection):\n",
    "                worldbis[i][j] = 1\n",
    "                parabis[i][j] = 0\n",
    "    return worldbis , parabis\n",
    "\n",
    "#test\n",
    "#ix = 0\n",
    "#for ix in range (4):\n",
    "    #worldtest2,paralleletest = desinfection(worldtest2,3,paralleletest )\n",
    "    #print(worldtest2,paralleletest)\n",
    "#print(desinfection(worldtest2,duréeinfection,creation_parallele(worldtest2)))"
   ]
  },
  {
   "cell_type": "code",
   "execution_count": 27,
   "id": "46b210c2",
   "metadata": {},
   "outputs": [],
   "source": [
    "#génère un tableau en 1d du voisinage de la case nm\n",
    "\n",
    "def voisins(world,n,m):\n",
    "    voisins=[]\n",
    "    for i in range(0,len(world[:,0])):\n",
    "        for j in range(0,len(world[0,:])):\n",
    "            if max(abs(i-n),abs(j-m))<=1 and not(i==n and j == m) :\n",
    "                voisins.append(world[i,j])\n",
    "    return voisins"
   ]
  },
  {
   "cell_type": "code",
   "execution_count": 28,
   "id": "3e80a7d5",
   "metadata": {},
   "outputs": [],
   "source": [
    "#vérifie si il y autre chose que des malades et cases vides dans le voisinage\n",
    "\n",
    "def verif_voisins(world,n,m):\n",
    "    for i in voisins(world,n,m):\n",
    "        if i != 0 and i!= 2:\n",
    "            return True\n",
    "    return False"
   ]
  },
  {
   "cell_type": "code",
   "execution_count": 29,
   "id": "645e4d60-10b2-4cd9-84a8-b64f5545c992",
   "metadata": {
    "scrolled": true
   },
   "outputs": [],
   "source": [
    "#fais évoluer le monde en effectuant un tour( pour le moment seul les nouvels infections sont gérées)\n",
    "#avec la proba\n",
    "def tour(world,rzero,duree_infection,parallele):\n",
    "    worldbis = np.copy(world)\n",
    "    parabis = np.copy(parallele)\n",
    "    for i in range (0, len(world[:,0])):\n",
    "        for j in range ( 0, len(world[0,:])):\n",
    "            if world[i,j] == 2 and verif_voisins(worldbis,i,j):\n",
    "                nb = 0 \n",
    "                while nb < rzero and verif_voisins(worldbis,i,j):\n",
    "                    x = i + (random.randint(-1,1))\n",
    "                    y = j + (random.randint(-1,1))\n",
    "                    if (x >= 0 and x <= len(world[:,0])-1) and (y>= 0 and y<= len(world[0,:])-1):\n",
    "                        if worldbis[x,y] != 0 and worldbis[x,y]!= 2:\n",
    "                            worldbis = infection_cellule(worldbis,x,y)\n",
    "                            nb += 1\n",
    "    return desinfection(worldbis,duree_infection,parabis)\n"
   ]
  },
  {
   "cell_type": "code",
   "execution_count": 30,
   "id": "b7d226e1",
   "metadata": {},
   "outputs": [],
   "source": [
    "#effectue le deplacement d'un membre du monde choisi de manière aléatoire\n",
    "#tp\n",
    "def deplacement(world,parallele):\n",
    "    worldbis = np.copy(world)\n",
    "    parabis = np.copy(parallele)\n",
    "    x1 = random.randint(0,len(world[:,0])-1)\n",
    "    y1 = random.randint(0,len(world[0,:])-1)\n",
    "    x2 = random.randint(0,len(world[:,0])-1)\n",
    "    y2 = random.randint(0,len(world[0,:])-1)  \n",
    "    while world[x1,y1] == 0 or (x1 == x2 and y1 == y2):\n",
    "        x1 = random.randint(0,len(world[:,0])-1)\n",
    "        y1 = random.randint(0,len(world[0,:])-1) \n",
    "    worldbis[x2,y2] = world[x1,y1]\n",
    "    worldbis[x1,y1] = world[x2,y2]\n",
    "    parabis[x2,y2] = parallele[x1,y1]\n",
    "    parabis[x1,y1] = parallele[x2,y2]\n",
    "    return worldbis,parabis"
   ]
  },
  {
   "cell_type": "code",
   "execution_count": 31,
   "id": "f00587cf",
   "metadata": {},
   "outputs": [],
   "source": [
    "#effectue x tour d'évolution du monde en ajoutant un déplacement aléatoire tous les freq_depla tours \n",
    "\n",
    "def tour_boucle(world,rzero,nbtour,freq_depla,duree_infection,parallele):\n",
    "    worldbis = np.copy(world)\n",
    "    parabis = np.copy(parallele)\n",
    "    i = 0\n",
    "    while i < nbtour:\n",
    "        if i%freq_depla == 0:\n",
    "            worldbis,parabis = deplacement(worldbis,parabis)\n",
    "        worldbis,parabis = tour(worldbis,rzero,duree_infection,parabis)\n",
    "        #print(worldbis,\"\\n\",parabis,\"\\n\",\"\\n\")\n",
    "        i+= 1\n",
    "    return worldbis"
   ]
  },
  {
   "cell_type": "code",
   "execution_count": null,
   "id": "9cf03995",
   "metadata": {},
   "outputs": [],
   "source": []
  },
  {
   "cell_type": "code",
   "execution_count": 32,
   "id": "24c80ec1-2f11-4921-83c4-0d6905e3ae59",
   "metadata": {},
   "outputs": [
    {
     "data": {
      "text/plain": [
       "array([[1, 1, 3, 1, 1, 1, 1, 1, 1, 1],\n",
       "       [1, 1, 1, 0, 1, 1, 1, 1, 1, 1],\n",
       "       [1, 1, 1, 1, 1, 1, 1, 1, 1, 1],\n",
       "       [1, 1, 1, 1, 1, 1, 1, 0, 2, 1],\n",
       "       [1, 1, 1, 0, 1, 1, 1, 0, 1, 1],\n",
       "       [1, 1, 1, 0, 1, 1, 1, 1, 1, 1],\n",
       "       [0, 1, 0, 1, 1, 1, 1, 1, 1, 0],\n",
       "       [1, 1, 1, 1, 1, 1, 1, 1, 1, 1],\n",
       "       [1, 1, 1, 1, 1, 0, 1, 1, 1, 1],\n",
       "       [1, 1, 1, 1, 1, 1, 1, 1, 1, 1]])"
      ]
     },
     "execution_count": 32,
     "metadata": {},
     "output_type": "execute_result"
    }
   ],
   "source": [
    "def vaccin(world):\n",
    "    worldbis = np.copy(world)\n",
    "    breack = 0\n",
    "    for i in range (0, len(world[:,0])):\n",
    "        if breack != 0:\n",
    "            break\n",
    "        for j in range ( 0, len(world[0,:])):\n",
    "            if world[i][j] == 1 :\n",
    "                breack +=1\n",
    "                break\n",
    "    if breack == 0:\n",
    "        return worldbis\n",
    "    else:\n",
    "        x1 = random.randint(0,len(world[:,0])-1)\n",
    "        y1 = random.randint(0,len(world[0,:])-1) \n",
    "        while world[x1,y1] != 0:\n",
    "            x1 = random.randint(0,len(world[:,0])-1)\n",
    "            y1 = random.randint(0,len(world[0,:])-1) \n",
    "        worldbis[x1,y1] = 3\n",
    "        return worldbis\n",
    "\n",
    "vaccin(worldtest)"
   ]
  },
  {
   "cell_type": "code",
   "execution_count": 33,
   "id": "dbbbca5c-832b-4ddd-9792-20bad1013e3e",
   "metadata": {},
   "outputs": [],
   "source": [
    "def devaccin(world,parallele,duree_vaccin):\n",
    "    worldbis = np.copy(world)\n",
    "    parabis = np.copy(parallele)\n",
    "    for i in range(len(worldbis[:,0])):\n",
    "        for j in range(len(worldbis[0,:])):\n",
    "            if (worldbis[i][j] == 3 and parabis[i][j] != duree_vaccin):\n",
    "                parabis[i][j] += 1\n",
    "            elif(worldbis[i][j] == 3 and parabis[i][j] == duree_vaccin):\n",
    "                worldbis[i][j] = 1\n",
    "                parabis[i][j] = 0\n",
    "    return worldbis , parabis"
   ]
  },
  {
   "cell_type": "code",
   "execution_count": 34,
   "id": "d3dfe414-29dd-4cec-aeb8-352cc911e1eb",
   "metadata": {},
   "outputs": [],
   "source": [
    "def tour_vaccin(world,rzero,duree_infection,parallele,duree_vaccin,taux_immun):\n",
    "    worldbis = np.copy(world)\n",
    "    parabis = np.copy(parallele)\n",
    "    for i in range (0, len(world[:,0])):\n",
    "        for j in range ( 0, len(world[0,:])):\n",
    "            if world[i,j] == 2 and verif_voisins(worldbis,i,j):\n",
    "                nb = 0 \n",
    "                while nb < rzero and verif_voisins(worldbis,i,j):\n",
    "                    x = i + (random.randint(-1,1))\n",
    "                    y = j + (random.randint(-1,1))\n",
    "                    if (x >= 0 and x <= len(worldbis[:,0])-1) and (y>= 0 and y<= len(worldbis[0,:])-1):\n",
    "                        if worldbis[x,y] == 1:\n",
    "                            worldbis = infection_cellule(worldbis,x,y)\n",
    "                            nb += 1\n",
    "                        if worldbis[x,y] == 3:\n",
    "                            worldbis,parabis = infection_vaccin(worldbis,parabis,x,y,taux_immun)\n",
    "                            nb+=1\n",
    "    worldbis,parabis = desinfection(worldbis,duree_infection,parabis)\n",
    "    worldbis,parabis = devaccin(worldbis,parabis,duree_vaccin)\n",
    "    return worldbis, parabis\n",
    "\n"
   ]
  },
  {
   "cell_type": "code",
   "execution_count": 35,
   "id": "d9887404",
   "metadata": {},
   "outputs": [
    {
     "ename": "NameError",
     "evalue": "name 'dureeinfection' is not defined",
     "output_type": "error",
     "traceback": [
      "\u001b[1;31m---------------------------------------------------------------------------\u001b[0m",
      "\u001b[1;31mNameError\u001b[0m                                 Traceback (most recent call last)",
      "Cell \u001b[1;32mIn[35], line 14\u001b[0m\n\u001b[0;32m     11\u001b[0m         i\u001b[38;5;241m+\u001b[39m\u001b[38;5;241m=\u001b[39m \u001b[38;5;241m1\u001b[39m\n\u001b[0;32m     12\u001b[0m     \u001b[38;5;28;01mreturn\u001b[39;00m worldbis\n\u001b[1;32m---> 14\u001b[0m worldtest\u001b[38;5;241m=\u001b[39m tour_boucle_vaccin(worldtest,rzero,\u001b[38;5;241m5\u001b[39m,freq_depla,dureeinfection,creation_parallele(worldtest),dureevaccin,freq_vaccin,taux_immun)\n",
      "\u001b[1;31mNameError\u001b[0m: name 'dureeinfection' is not defined"
     ]
    }
   ],
   "source": [
    "def tour_boucle_vaccin(world,rzero,nbtour,freq_depla,duree_infection,parallele,duree_vaccin,freq_vaccin,taux_immun):\n",
    "    worldbis = np.copy(world)\n",
    "    parabis = np.copy(parallele)\n",
    "    i = 0\n",
    "    while i < nbtour:\n",
    "        if i%freq_depla == 0:\n",
    "            worldbis,parabis = deplacement(worldbis,parabis)\n",
    "        if i%freq_vaccin == 0:\n",
    "            worldbis = vaccin(worldbis)\n",
    "        worldbis,parabis = tour_vaccin(worldbis,rzero,duree_infection,parabis,duree_vaccin,taux_immun)\n",
    "        i+= 1\n",
    "    return worldbis\n",
    "\n",
    "worldtest= tour_boucle_vaccin(worldtest,rzero,5,freq_depla,dureeinfection,creation_parallele(worldtest),dureevaccin,freq_vaccin,taux_immun)"
   ]
  },
  {
   "cell_type": "code",
   "execution_count": null,
   "id": "29d93fc2",
   "metadata": {},
   "outputs": [],
   "source": [
    "def cycle_entier(n,m,nbtour,freq_depla,rzero,duree_infection,duree_vaccin,freq_vaccin,taux_immun):\n",
    "    world = generate_spatial_world(n,m)\n",
    "    world = infection_world(world)\n",
    "    worldun = np.copy(world)\n",
    "    \n"
   ]
  },
  {
   "cell_type": "code",
   "execution_count": 36,
   "id": "6427510c-46a6-4df5-bba6-611adb11fedf",
   "metadata": {},
   "outputs": [],
   "source": [
    "def fenetre(n,m,rzero,duree_infection,duree_vaccin,taux_immun,freq_depla):\n",
    "    \n",
    "    #creation des deux mondes et de leurs parallèles\n",
    "    \n",
    "    no_vacc = generate_spatial_world(n,m)\n",
    "    no_vacc = infection_world(no_vacc)\n",
    "    yes_vacc = np.copy(no_vacc)\n",
    "    no_para = creation_parallele(no_vacc)\n",
    "    yes_para = creation_parallele(yes_vacc)\n",
    "    \n",
    "    #gestion des différentes variables et creation de la fenetre tkinter et ses parametres\n",
    "    \n",
    "    nb_tour = 0\n",
    "    colors = [\"black\",\"white\",\"red\", \"green\",]\n",
    "    fenetre= Tk()\n",
    "    fenetre.w= 700\n",
    "    fenetre.h= 700\n",
    "    fenetre.bg = \"black\"\n",
    "    long_rec =500//m\n",
    "    larg_rec= 500//n\n",
    "    ci = -1\n",
    "    cj= -1\n",
    "    \n",
    "    #creation de la fenetre de dessin et de l'itegration de base pour les 2 mondes\n",
    "    \n",
    "    fenetre.canvas= Canvas(fenetre,width=1050,height=500)\n",
    "    fenetre.canvas.pack(padx= 10, pady = 10)\n",
    "    \n",
    "    for i in range (0,500,long_rec):\n",
    "        ci += 1 \n",
    "        cj = -1\n",
    "        for j in range(0,500,larg_rec):\n",
    "            cj += 1 \n",
    "            fenetre.canvas.create_rectangle(i,j,i+long_rec,j+larg_rec,fill=colors[no_vacc[cj][ci]])\n",
    "    ci = -1\n",
    "    cj = -1\n",
    "    for i in range (550,1050,long_rec):\n",
    "        ci += 1 \n",
    "        cj = -1\n",
    "        for j in range(0,500,larg_rec):\n",
    "            cj += 1 \n",
    "            fenetre.canvas.create_rectangle(i,j,i+long_rec,j+larg_rec,fill=colors[yes_vacc[cj][ci]])\n",
    "    \n",
    "    while True:\n",
    "        time.sleep(0.5)\n",
    "        if nb_tour%freq_depla == 0:\n",
    "            \n",
    "            no_vacc,no_para = deplacement( no_vacc,no_para )\n",
    "            yes_vacc, yes_para = deplacement ( yes_vacc, yes_para )\n",
    "            \n",
    "        if nb_tour%freq_vaccin == 0:\n",
    "            \n",
    "            yes_vacc = vaccin(yes_vacc)\n",
    "            \n",
    "        no_vacc, no_para = tour(no_vacc,rzero,duree_infection,no_para)\n",
    "        yes_vacc, yes_para = tour_vaccin(yes_vacc,rzero,duree_infection,yes_para,duree_vaccin,taux_immun)\n",
    "        ci = -1\n",
    "        cj = -1\n",
    "        for i in range (0,500,long_rec):\n",
    "            ci += 1 \n",
    "            cj = -1\n",
    "            for j in range(0,500,larg_rec):\n",
    "                cj += 1 \n",
    "                fenetre.canvas.create_rectangle(i,j,i+long_rec,j+larg_rec,fill=colors[no_vacc[cj][ci]])\n",
    "        ci = -1\n",
    "        cj = -1\n",
    "        for i in range (550,1050,long_rec):\n",
    "            ci += 1 \n",
    "            cj = -1\n",
    "            for j in range(0,500,larg_rec):\n",
    "                cj += 1 \n",
    "                fenetre.canvas.create_rectangle(i,j,i+long_rec,j+larg_rec,fill=colors[yes_vacc[cj][ci]])\n",
    "        \n",
    "        nb_tour =+ 1 \n",
    "        fenetre.canvas.update()\n",
    "    fenetre.mainloop()\n"
   ]
  },
  {
   "cell_type": "code",
   "execution_count": null,
   "id": "86561fa8-9ffd-4d5e-858b-61dabab730a8",
   "metadata": {},
   "outputs": [],
   "source": [
    "fenetre(n,m,rzero,duree_infection,duree_vaccin,taux_immun,freq_depla)\n"
   ]
  },
  {
   "cell_type": "code",
   "execution_count": null,
   "id": "d149ad09",
   "metadata": {},
   "outputs": [],
   "source": []
  }
 ],
 "metadata": {
  "kernelspec": {
   "display_name": "Python 3 (ipykernel)",
   "language": "python",
   "name": "python3"
  },
  "language_info": {
   "codemirror_mode": {
    "name": "ipython",
    "version": 3
   },
   "file_extension": ".py",
   "mimetype": "text/x-python",
   "name": "python",
   "nbconvert_exporter": "python",
   "pygments_lexer": "ipython3",
   "version": "3.11.5"
  }
 },
 "nbformat": 4,
 "nbformat_minor": 5
}
