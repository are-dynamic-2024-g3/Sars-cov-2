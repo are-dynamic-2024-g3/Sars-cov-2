{
 "cells": [
  {
   "cell_type": "code",
   "execution_count": 99,
   "id": "a23dca27-7e5c-4ebe-80f5-5e97d2c0e749",
   "metadata": {},
   "outputs": [],
   "source": [
    "import numpy as np\n",
    "import random\n",
    "from matplotlib import pyplot as plt\n",
    "from tkinter import *\n",
    "import time\n"
   ]
  },
  {
   "cell_type": "code",
   "execution_count": null,
   "id": "eddeabeb",
   "metadata": {},
   "outputs": [],
   "source": []
  },
  {
   "cell_type": "code",
   "execution_count": 100,
   "id": "f9527b9d-13e3-4694-a2f4-93c56f958dcc",
   "metadata": {},
   "outputs": [],
   "source": [
    "# paramètres\n",
    "#taille monde:\n",
    "\n",
    "n = 20\n",
    "m = 20\n",
    "nb_tour = 15\n",
    "#taux d'infection :\n",
    "\n",
    "rzero = 2\n",
    "chance_infect = 0.6\n",
    "\n",
    "#durée de vie virus et vaccin :\n",
    "\n",
    "duree_infection = 2\n",
    "duree_vaccin = 25\n",
    "\n",
    "#taux vaccinal :\n",
    "\n",
    "taux_immun = 0.99\n",
    "\n",
    "freq_vaccin = 1\n",
    "freq_depla = 4"
   ]
  },
  {
   "cell_type": "code",
   "execution_count": 101,
   "id": "b2c00f1c-c213-4fdf-ac20-6facfe9021c8",
   "metadata": {},
   "outputs": [
    {
     "data": {
      "text/plain": [
       "array([[0, 1, 1, 1, 1, 1, 1, 1, 1, 1, 1, 1, 1, 1, 1, 0, 1, 1, 1, 1],\n",
       "       [1, 1, 1, 1, 1, 1, 0, 1, 0, 1, 1, 1, 1, 0, 1, 0, 1, 1, 0, 1],\n",
       "       [1, 1, 1, 1, 1, 1, 1, 1, 1, 0, 1, 1, 1, 1, 1, 0, 0, 1, 1, 1],\n",
       "       [1, 1, 0, 1, 1, 0, 0, 0, 1, 1, 0, 1, 1, 1, 1, 1, 1, 1, 1, 1],\n",
       "       [1, 1, 1, 1, 1, 1, 1, 1, 1, 1, 1, 1, 1, 1, 1, 1, 1, 1, 1, 1],\n",
       "       [1, 1, 1, 1, 1, 1, 1, 0, 1, 1, 1, 1, 1, 1, 1, 1, 0, 1, 0, 1],\n",
       "       [0, 1, 1, 1, 1, 1, 1, 1, 1, 1, 1, 1, 1, 0, 1, 1, 1, 1, 1, 1],\n",
       "       [1, 1, 0, 1, 0, 1, 1, 1, 0, 1, 1, 1, 1, 1, 1, 1, 1, 1, 1, 1],\n",
       "       [1, 1, 1, 1, 1, 1, 1, 1, 1, 1, 1, 0, 1, 1, 0, 1, 1, 1, 1, 1],\n",
       "       [1, 1, 1, 0, 1, 1, 1, 1, 1, 1, 1, 1, 1, 1, 1, 1, 1, 1, 1, 1],\n",
       "       [1, 1, 1, 1, 1, 1, 1, 0, 1, 1, 1, 1, 1, 1, 1, 1, 1, 1, 1, 1],\n",
       "       [0, 0, 1, 1, 1, 1, 1, 1, 1, 1, 1, 1, 1, 0, 1, 1, 1, 1, 0, 1],\n",
       "       [1, 1, 1, 1, 1, 1, 1, 1, 1, 0, 1, 1, 1, 1, 1, 1, 1, 1, 1, 1],\n",
       "       [1, 1, 1, 0, 1, 1, 1, 1, 0, 1, 1, 1, 1, 1, 1, 1, 1, 1, 1, 1],\n",
       "       [1, 1, 1, 1, 1, 1, 1, 1, 1, 1, 1, 1, 1, 1, 1, 1, 1, 1, 0, 1],\n",
       "       [1, 1, 1, 1, 0, 1, 1, 1, 1, 1, 1, 1, 1, 0, 0, 1, 1, 1, 0, 1],\n",
       "       [1, 1, 1, 1, 1, 0, 0, 1, 1, 1, 1, 0, 0, 1, 1, 1, 1, 1, 0, 0],\n",
       "       [1, 1, 1, 1, 1, 1, 1, 1, 1, 1, 1, 1, 1, 1, 1, 1, 1, 1, 1, 1],\n",
       "       [1, 1, 1, 1, 1, 1, 0, 0, 1, 1, 1, 1, 1, 1, 0, 0, 1, 1, 1, 1],\n",
       "       [1, 1, 1, 1, 1, 1, 1, 1, 1, 0, 1, 1, 1, 1, 1, 1, 1, 1, 1, 1]])"
      ]
     },
     "execution_count": 101,
     "metadata": {},
     "output_type": "execute_result"
    }
   ],
   "source": [
    "#génère un monde de taille n,m\n",
    "\n",
    "def generate_spatial_world(n,m):\n",
    "    return np.random.choice([1,0],size=(n,m),p = [0.9,0.1])\n",
    "worldtest = generate_spatial_world(n,m)\n",
    "worldtest"
   ]
  },
  {
   "cell_type": "code",
   "execution_count": 102,
   "id": "a9a99ac9-d803-41b9-8e00-5a5d4e174060",
   "metadata": {},
   "outputs": [
    {
     "data": {
      "text/plain": [
       "array([[0, 1, 1, 1, 1, 1, 1, 1, 1, 1, 1, 1, 1, 1, 1, 0, 1, 1, 1, 1],\n",
       "       [1, 1, 1, 1, 1, 1, 0, 1, 0, 1, 1, 1, 1, 0, 1, 0, 1, 1, 0, 1],\n",
       "       [1, 1, 1, 1, 1, 1, 1, 1, 1, 0, 1, 1, 1, 1, 1, 0, 0, 1, 1, 1],\n",
       "       [1, 1, 0, 1, 1, 0, 0, 0, 1, 1, 0, 1, 1, 1, 1, 1, 1, 1, 1, 1],\n",
       "       [1, 1, 1, 1, 1, 1, 1, 1, 1, 1, 1, 1, 1, 1, 1, 1, 1, 1, 1, 1],\n",
       "       [1, 1, 1, 1, 1, 1, 1, 0, 1, 1, 1, 1, 1, 1, 1, 1, 0, 1, 0, 1],\n",
       "       [0, 1, 1, 1, 1, 1, 1, 1, 1, 1, 1, 1, 1, 0, 1, 1, 1, 1, 1, 1],\n",
       "       [1, 1, 0, 1, 0, 1, 1, 1, 0, 1, 1, 1, 1, 1, 1, 1, 1, 1, 1, 1],\n",
       "       [1, 1, 1, 1, 1, 1, 1, 1, 1, 1, 1, 0, 1, 1, 0, 1, 1, 1, 1, 1],\n",
       "       [1, 1, 1, 0, 1, 1, 1, 1, 1, 1, 1, 1, 1, 1, 1, 1, 1, 1, 1, 1],\n",
       "       [1, 1, 1, 1, 1, 1, 1, 0, 1, 1, 1, 1, 1, 1, 1, 1, 1, 1, 1, 1],\n",
       "       [0, 0, 1, 1, 1, 1, 1, 1, 1, 1, 1, 1, 1, 0, 1, 1, 1, 1, 0, 1],\n",
       "       [1, 1, 1, 1, 1, 1, 1, 1, 1, 0, 1, 1, 1, 1, 1, 1, 1, 1, 1, 1],\n",
       "       [1, 1, 1, 0, 1, 1, 1, 1, 0, 1, 1, 1, 1, 1, 1, 1, 1, 1, 1, 1],\n",
       "       [1, 1, 1, 1, 1, 1, 1, 1, 1, 1, 1, 1, 1, 1, 1, 1, 1, 1, 0, 1],\n",
       "       [1, 1, 1, 1, 0, 1, 1, 1, 1, 1, 1, 1, 1, 0, 0, 1, 1, 1, 0, 1],\n",
       "       [1, 1, 1, 1, 1, 0, 0, 1, 1, 1, 1, 0, 0, 1, 1, 1, 1, 1, 0, 0],\n",
       "       [1, 1, 1, 1, 1, 2, 1, 1, 1, 1, 1, 1, 1, 1, 1, 1, 1, 1, 1, 1],\n",
       "       [1, 1, 1, 1, 1, 1, 0, 0, 1, 1, 1, 1, 1, 1, 0, 0, 1, 1, 1, 1],\n",
       "       [1, 1, 1, 1, 1, 1, 1, 1, 1, 0, 1, 1, 1, 1, 1, 1, 1, 1, 1, 1]])"
      ]
     },
     "execution_count": 102,
     "metadata": {},
     "output_type": "execute_result"
    }
   ],
   "source": [
    "#génère la premiere infection aléatoire d'un monde de taille n,m\n",
    "\n",
    "def infection_world(world):\n",
    "    worldbis = np.copy(world)\n",
    "    while True:\n",
    "        n = random.randint(0,len(worldbis[:,0])-1)\n",
    "        m = random.randint(0,len(worldbis[0,:])-1)\n",
    "        if worldbis[n,m] == 1:\n",
    "            worldbis[n,m] = 2\n",
    "            break\n",
    "    return worldbis\n",
    "\n",
    "worldtest=infection_world(worldtest)\n",
    "\n",
    "worldtest"
   ]
  },
  {
   "cell_type": "code",
   "execution_count": 103,
   "id": "90930edc-974f-481c-8faa-0e3bd83abdfa",
   "metadata": {},
   "outputs": [],
   "source": [
    "#infecte la cellule x,y, si elle n'est pas vaccinée\n",
    "\n",
    "def infection_cellule(world,x,y):\n",
    "    worldbis = np.copy(world)\n",
    "    if world[x,y] != 3:\n",
    "        worldbis[x,y] = 2\n",
    "    return worldbis\n",
    "\n"
   ]
  },
  {
   "cell_type": "code",
   "execution_count": 104,
   "id": "b4561e61-03f5-4ad3-b7ce-eb7c32854440",
   "metadata": {},
   "outputs": [],
   "source": [
    "def infection_vaccin(world,parallele,x,y,taux_immun):\n",
    "    worldbis = np.copy(world)\n",
    "    parabis = np.copy(parallele)\n",
    "    if world[x,y] == 3:\n",
    "        chance = random.random()\n",
    "        if chance >= taux_immun:\n",
    "            worldbis[x,y] = 2\n",
    "            parabis[x,y] = 0\n",
    "    return worldbis,parabis\n",
    "\n"
   ]
  },
  {
   "cell_type": "code",
   "execution_count": 105,
   "id": "c0909dc7",
   "metadata": {},
   "outputs": [],
   "source": [
    "# idée pour la gestion des temps d'infection /vaccin , création d'un deuxieme vecteur 2d comportant les durées de vie des états actuels\n",
    "\n",
    "#création d'un monde parallele:\n",
    "\n",
    "def creation_parallele(world):\n",
    "    parallele = np.zeros((len(world[:,0]),len(world[0,:])))\n",
    "    return parallele\n",
    "\n",
    "#test\n",
    "#print(creation_parallele(worldtest))\n",
    "#print(worldtest)\n",
    "#paralleletest = creation_parallele(worldtest2)"
   ]
  },
  {
   "cell_type": "code",
   "execution_count": 106,
   "id": "2e6585b7",
   "metadata": {},
   "outputs": [],
   "source": [
    "\n",
    "#création d'un monde parallele:\n",
    "\n",
    "def desinfection(world,duree_infection,parallele):\n",
    "    worldbis = np.copy(world)\n",
    "    parabis = np.copy(parallele)\n",
    "    for i in range(len(world[:,0])):\n",
    "        for j in range(len(world[0,:])):\n",
    "            if (worldbis[i][j] == 2 and parabis[i][j] != duree_infection):\n",
    "                parabis[i][j] += 1\n",
    "            elif(worldbis[i][j] == 2 and parabis[i][j] == duree_infection):\n",
    "                worldbis[i][j] = 1\n",
    "                parabis[i][j] = 0\n",
    "    return worldbis , parabis\n",
    "\n",
    "#test\n",
    "#ix = 0\n",
    "#for ix in range (4):\n",
    "    #worldtest2,paralleletest = desinfection(worldtest2,3,paralleletest )\n",
    "    #print(worldtest2,paralleletest)\n",
    "#print(desinfection(worldtest2,duréeinfection,creation_parallele(worldtest2)))"
   ]
  },
  {
   "cell_type": "code",
   "execution_count": 107,
   "id": "46b210c2",
   "metadata": {},
   "outputs": [],
   "source": [
    "#génère un tableau en 1d du voisinage de la case nm\n",
    "\n",
    "def voisins(world,n,m):\n",
    "    voisins=[]\n",
    "    for i in range(0,len(world[:,0])):\n",
    "        for j in range(0,len(world[0,:])):\n",
    "            if max(abs(i-n),abs(j-m))<=1 and not(i==n and j == m) :\n",
    "                voisins.append(world[i,j])\n",
    "    return voisins"
   ]
  },
  {
   "cell_type": "code",
   "execution_count": 108,
   "id": "3e80a7d5",
   "metadata": {},
   "outputs": [],
   "source": [
    "#vérifie si il y autre chose que des malades et cases vides dans le voisinage\n",
    "\n",
    "def verif_voisins(world,n,m):\n",
    "    for i in voisins(world,n,m):\n",
    "        if i != 0 and i!= 2:\n",
    "            return True\n",
    "    return False"
   ]
  },
  {
   "cell_type": "code",
   "execution_count": 109,
   "id": "645e4d60-10b2-4cd9-84a8-b64f5545c992",
   "metadata": {
    "scrolled": true
   },
   "outputs": [],
   "source": [
    "#fais évoluer le monde en effectuant un tour( pour le moment seul les nouvels infections sont gérées)\n",
    "#avec la proba\n",
    "def tour(world,rzero,duree_infection,parallele,chance_infect):\n",
    "    worldbis = np.copy(world)\n",
    "    parabis = np.copy(parallele)\n",
    "    for i in range (0, len(world[:,0])):\n",
    "        for j in range ( 0, len(world[0,:])):\n",
    "            if world[i,j] == 2 and verif_voisins(worldbis,i,j):\n",
    "                nb = 0 \n",
    "                while nb < rzero and verif_voisins(worldbis,i,j):\n",
    "                    x = i + (random.randint(-1,1))\n",
    "                    y = j + (random.randint(-1,1))\n",
    "                    rand = random.random()\n",
    "                    if (x >= 0 and x <= len(world[:,0])-1) and (y>= 0 and y<= len(world[0,:])-1):\n",
    "                        if worldbis[x,y] != 0 and worldbis[x,y]!= 2:\n",
    "                            if rand  >= chance_infect:\n",
    "                                worldbis = infection_cellule(worldbis,x,y)\n",
    "                            nb += 1\n",
    "    return desinfection(worldbis,duree_infection,parabis)\n"
   ]
  },
  {
   "cell_type": "code",
   "execution_count": 110,
   "id": "b7d226e1",
   "metadata": {},
   "outputs": [],
   "source": [
    "#effectue le deplacement d'un membre du monde choisi de manière aléatoire\n",
    "#tp\n",
    "def deplacement(world,parallele):\n",
    "    worldbis = np.copy(world)\n",
    "    parabis = np.copy(parallele)\n",
    "    x1 = random.randint(0,len(world[:,0])-1)\n",
    "    y1 = random.randint(0,len(world[0,:])-1)\n",
    "    x2 = random.randint(0,len(world[:,0])-1)\n",
    "    y2 = random.randint(0,len(world[0,:])-1)  \n",
    "    while world[x1,y1] == 0 or (x1 == x2 and y1 == y2):\n",
    "        x1 = random.randint(0,len(world[:,0])-1)\n",
    "        y1 = random.randint(0,len(world[0,:])-1) \n",
    "    worldbis[x2,y2] = world[x1,y1]\n",
    "    worldbis[x1,y1] = world[x2,y2]\n",
    "    parabis[x2,y2] = parallele[x1,y1]\n",
    "    parabis[x1,y1] = parallele[x2,y2]\n",
    "    return worldbis,parabis"
   ]
  },
  {
   "cell_type": "code",
   "execution_count": 111,
   "id": "f00587cf",
   "metadata": {},
   "outputs": [],
   "source": [
    "#effectue x tour d'évolution du monde en ajoutant un déplacement aléatoire tous les freq_depla tours \n",
    "\n",
    "def tour_boucle(world,rzero,nbtour,freq_depla,duree_infection,parallelechance_infect):\n",
    "    worldbis = np.copy(world)\n",
    "    parabis = np.copy(parallele)\n",
    "    i = 0\n",
    "    while i < nbtour:\n",
    "        if i%freq_depla == 0:\n",
    "            worldbis,parabis = deplacement(worldbis,parabis)\n",
    "        worldbis,parabis = tour(worldbis,rzero,duree_infection,parabis,chance_infect)\n",
    "        #print(worldbis,\"\\n\",parabis,\"\\n\",\"\\n\")\n",
    "        i+= 1\n",
    "    return worldbis"
   ]
  },
  {
   "cell_type": "code",
   "execution_count": null,
   "id": "9cf03995",
   "metadata": {},
   "outputs": [],
   "source": []
  },
  {
   "cell_type": "code",
   "execution_count": 112,
   "id": "24c80ec1-2f11-4921-83c4-0d6905e3ae59",
   "metadata": {},
   "outputs": [
    {
     "data": {
      "text/plain": [
       "array([[0, 1, 1, 1, 1, 1, 1, 1, 1, 1, 1, 1, 1, 1, 1, 0, 1, 1, 1, 1],\n",
       "       [1, 1, 1, 1, 1, 1, 0, 1, 0, 1, 1, 1, 1, 0, 1, 0, 1, 1, 0, 1],\n",
       "       [1, 1, 1, 1, 1, 1, 1, 1, 1, 0, 1, 1, 1, 1, 1, 0, 0, 1, 1, 1],\n",
       "       [1, 1, 0, 1, 1, 0, 0, 0, 1, 1, 0, 1, 1, 1, 1, 1, 1, 1, 1, 1],\n",
       "       [1, 1, 1, 1, 1, 1, 1, 1, 1, 1, 1, 1, 1, 1, 1, 1, 1, 1, 1, 1],\n",
       "       [1, 1, 1, 1, 1, 1, 1, 0, 1, 1, 1, 1, 1, 1, 1, 1, 0, 1, 0, 1],\n",
       "       [0, 1, 1, 1, 1, 1, 1, 1, 1, 1, 1, 1, 1, 0, 1, 1, 1, 1, 1, 1],\n",
       "       [1, 1, 0, 1, 0, 1, 1, 1, 0, 1, 1, 1, 1, 1, 1, 1, 1, 1, 1, 1],\n",
       "       [1, 1, 1, 1, 1, 1, 1, 1, 1, 1, 1, 0, 1, 1, 0, 1, 1, 1, 1, 1],\n",
       "       [1, 1, 1, 0, 1, 1, 1, 1, 1, 1, 1, 1, 1, 1, 1, 1, 1, 1, 1, 1],\n",
       "       [1, 1, 1, 1, 1, 1, 1, 0, 1, 1, 1, 1, 1, 1, 1, 1, 1, 1, 1, 1],\n",
       "       [0, 0, 1, 1, 1, 1, 1, 1, 3, 1, 1, 1, 1, 0, 1, 1, 1, 1, 0, 1],\n",
       "       [1, 1, 1, 1, 1, 1, 1, 1, 1, 0, 1, 1, 1, 1, 1, 1, 1, 1, 1, 1],\n",
       "       [1, 1, 1, 0, 1, 1, 1, 1, 0, 1, 1, 1, 1, 1, 1, 1, 1, 1, 1, 1],\n",
       "       [1, 1, 1, 1, 1, 1, 1, 1, 1, 1, 1, 1, 1, 1, 1, 1, 1, 1, 0, 1],\n",
       "       [1, 1, 1, 1, 0, 1, 1, 1, 1, 1, 1, 1, 1, 0, 0, 1, 1, 1, 0, 1],\n",
       "       [1, 1, 1, 1, 1, 0, 0, 1, 1, 1, 1, 0, 0, 1, 1, 1, 1, 1, 0, 0],\n",
       "       [1, 1, 1, 1, 1, 2, 1, 1, 1, 1, 1, 1, 1, 1, 1, 1, 1, 1, 1, 1],\n",
       "       [1, 1, 1, 1, 1, 1, 0, 0, 1, 1, 1, 1, 1, 1, 0, 0, 1, 1, 1, 1],\n",
       "       [1, 1, 1, 1, 1, 1, 1, 1, 1, 0, 1, 1, 1, 1, 1, 1, 1, 1, 1, 1]])"
      ]
     },
     "execution_count": 112,
     "metadata": {},
     "output_type": "execute_result"
    }
   ],
   "source": [
    "def vaccin(world):\n",
    "    worldbis = np.copy(world)\n",
    "    breack = 0\n",
    "    for i in range (0, len(world[:,0])):\n",
    "        if breack != 0:\n",
    "            break\n",
    "        for j in range ( 0, len(world[0,:])):\n",
    "            if world[i][j] == 1 :\n",
    "                breack +=1\n",
    "                break\n",
    "    if breack == 0:\n",
    "        return worldbis\n",
    "    else:\n",
    "        x1 = random.randint(0,len(world[:,0])-1)\n",
    "        y1 = random.randint(0,len(world[0,:])-1) \n",
    "        while world[x1,y1] != 1:\n",
    "            x1 = random.randint(0,len(world[:,0])-1)\n",
    "            y1 = random.randint(0,len(world[0,:])-1) \n",
    "        worldbis[x1,y1] = 3\n",
    "        return worldbis\n",
    "\n",
    "vaccin(worldtest)"
   ]
  },
  {
   "cell_type": "code",
   "execution_count": 113,
   "id": "dbbbca5c-832b-4ddd-9792-20bad1013e3e",
   "metadata": {},
   "outputs": [],
   "source": [
    "def devaccin(world,parallele,duree_vaccin):\n",
    "    worldbis = np.copy(world)\n",
    "    parabis = np.copy(parallele)\n",
    "    for i in range(len(worldbis[:,0])):\n",
    "        for j in range(len(worldbis[0,:])):\n",
    "            if (worldbis[i][j] == 3 and parabis[i][j] != duree_vaccin):\n",
    "                parabis[i][j] += 1\n",
    "            elif(worldbis[i][j] == 3 and parabis[i][j] == duree_vaccin):\n",
    "                worldbis[i][j] = 1\n",
    "                parabis[i][j] = 0\n",
    "    return worldbis , parabis"
   ]
  },
  {
   "cell_type": "code",
   "execution_count": 114,
   "id": "d3dfe414-29dd-4cec-aeb8-352cc911e1eb",
   "metadata": {},
   "outputs": [],
   "source": [
    "def tour_vaccin(world,rzero,duree_infection,parallele,duree_vaccin,taux_immun,chance_infect):\n",
    "    worldbis = np.copy(world)\n",
    "    parabis = np.copy(parallele)\n",
    "    for i in range (0, len(world[:,0])):\n",
    "        for j in range ( 0, len(world[0,:])):\n",
    "            if world[i,j] == 2 and verif_voisins(worldbis,i,j):\n",
    "                nb = 0 \n",
    "                while nb < rzero and verif_voisins(worldbis,i,j):\n",
    "                    x = i + (random.randint(-1,1))\n",
    "                    y = j + (random.randint(-1,1))\n",
    "                    rand = random.random()\n",
    "                    if (x >= 0 and x <= len(worldbis[:,0])-1) and (y>= 0 and y<= len(worldbis[0,:])-1):\n",
    "                        if worldbis[x,y] == 1:\n",
    "                            if random.random() >= chance_infect:\n",
    "                                worldbis = infection_cellule(worldbis,x,y)\n",
    "                            nb += 1\n",
    "                        if worldbis[x,y] == 3:\n",
    "                            if rand >= chance_infect:\n",
    "                                worldbis,parabis = infection_vaccin(worldbis,parabis,x,y,taux_immun)\n",
    "                            nb+=1\n",
    "    worldbis,parabis = desinfection(worldbis,duree_infection,parabis)\n",
    "    worldbis,parabis = devaccin(worldbis,parabis,duree_vaccin)\n",
    "    return worldbis, parabis\n",
    "\n"
   ]
  },
  {
   "cell_type": "code",
   "execution_count": 115,
   "id": "d9887404",
   "metadata": {},
   "outputs": [],
   "source": [
    "def tour_boucle_vaccin(world,rzero,nbtour,freq_depla,duree_infection,parallele,duree_vaccin,freq_vaccin,taux_immun,chance_infect):\n",
    "    worldbis = np.copy(world)\n",
    "    parabis = np.copy(parallele)\n",
    "    i = 0\n",
    "    while i < nbtour:\n",
    "        if i%freq_depla == 0:\n",
    "            worldbis,parabis = deplacement(worldbis,parabis)\n",
    "        if i%freq_vaccin == 0:\n",
    "            worldbis = vaccin(worldbis)\n",
    "        worldbis,parabis = tour_vaccin(worldbis,rzero,duree_infection,parabis,duree_vaccin,taux_immun,chance_infect)\n",
    "        i+= 1\n",
    "    return worldbis\n",
    "\n",
    "worldtest= tour_boucle_vaccin(worldtest,rzero,5,freq_depla,duree_infection,creation_parallele(worldtest),duree_vaccin,freq_vaccin,taux_immun,chance_infect)"
   ]
  },
  {
   "cell_type": "code",
   "execution_count": 116,
   "id": "29d93fc2",
   "metadata": {},
   "outputs": [],
   "source": [
    "def cycle_entier(n,m,nbtour,freq_depla,rzero,duree_infection,duree_vaccin,freq_vaccin,taux_immun):\n",
    "    world = generate_spatial_world(n,m)\n",
    "    world = infection_world(world)\n",
    "    worldun = np.copy(world)\n",
    "    \n"
   ]
  },
  {
   "cell_type": "code",
   "execution_count": 117,
   "id": "6427510c-46a6-4df5-bba6-611adb11fedf",
   "metadata": {},
   "outputs": [],
   "source": [
    "def fenetre(n,m,rzero,duree_infection,duree_vaccin,taux_immun,freq_depla,chance_infect):\n",
    "    \n",
    "    #creation des deux mondes et de leurs parallèles\n",
    "    \n",
    "    no_vacc = generate_spatial_world(n,m)\n",
    "    no_vacc = infection_world(no_vacc)\n",
    "    yes_vacc = np.copy(no_vacc)\n",
    "    no_para = creation_parallele(no_vacc)\n",
    "    yes_para = creation_parallele(yes_vacc)\n",
    "    \n",
    "    #gestion des différentes variables et creation de la fenetre tkinter et ses parametres\n",
    "    \n",
    "    nb_tour = 0\n",
    "    colors = [\"black\",\"white\",\"red\", \"green\",]\n",
    "    fenetre= Tk()\n",
    "    fenetre.w= 700\n",
    "    fenetre.h= 700\n",
    "    fenetre.bg = \"black\"\n",
    "    long_rec =500//m\n",
    "    larg_rec= 500//n\n",
    "    ci = -1\n",
    "    cj= -1\n",
    "    \n",
    "    #creation de la fenetre de dessin et de l'itegration de base pour les 2 mondes\n",
    "    \n",
    "    fenetre.canvas= Canvas(fenetre,width=1050,height=500)\n",
    "    fenetre.canvas.pack(padx= 10, pady = 10)\n",
    "    \n",
    "    for i in range (0,500,long_rec):\n",
    "        ci += 1 \n",
    "        cj = -1\n",
    "        for j in range(0,500,larg_rec):\n",
    "            cj += 1 \n",
    "            fenetre.canvas.create_rectangle(i,j,i+long_rec,j+larg_rec,fill=colors[no_vacc[cj][ci]])\n",
    "    ci = -1\n",
    "    cj = -1\n",
    "    for i in range (550,1050,long_rec):\n",
    "        ci += 1 \n",
    "        cj = -1\n",
    "        for j in range(0,500,larg_rec):\n",
    "            cj += 1 \n",
    "            fenetre.canvas.create_rectangle(i,j,i+long_rec,j+larg_rec,fill=colors[yes_vacc[cj][ci]])\n",
    "    \n",
    "    while True:\n",
    "        time.sleep(0.5)\n",
    "        if nb_tour%freq_depla == 0:\n",
    "            \n",
    "            no_vacc,no_para = deplacement( no_vacc,no_para )\n",
    "            yes_vacc, yes_para = deplacement ( yes_vacc, yes_para )\n",
    "            \n",
    "        if nb_tour%freq_vaccin == 0:\n",
    "            \n",
    "            yes_vacc = vaccin(yes_vacc)\n",
    "            \n",
    "        no_vacc, no_para = tour(no_vacc,rzero,duree_infection,no_para,chance_infect)\n",
    "        yes_vacc, yes_para = tour_vaccin(yes_vacc,rzero,duree_infection,yes_para,duree_vaccin,taux_immun,chance_infect)\n",
    "        ci = -1\n",
    "        cj = -1\n",
    "        for i in range (0,500,long_rec):\n",
    "            ci += 1 \n",
    "            cj = -1\n",
    "            for j in range(0,500,larg_rec):\n",
    "                cj += 1 \n",
    "                fenetre.canvas.create_rectangle(i,j,i+long_rec,j+larg_rec,fill=colors[no_vacc[cj][ci]])\n",
    "        ci = -1\n",
    "        cj = -1\n",
    "        for i in range (550,1050,long_rec):\n",
    "            ci += 1 \n",
    "            cj = -1\n",
    "            for j in range(0,500,larg_rec):\n",
    "                cj += 1 \n",
    "                fenetre.canvas.create_rectangle(i,j,i+long_rec,j+larg_rec,fill=colors[yes_vacc[cj][ci]])\n",
    "        \n",
    "        nb_tour =+ 1 \n",
    "        fenetre.canvas.update()\n",
    "    fenetre.mainloop()\n"
   ]
  },
  {
   "cell_type": "code",
   "execution_count": 118,
   "id": "86561fa8-9ffd-4d5e-858b-61dabab730a8",
   "metadata": {},
   "outputs": [
    {
     "ename": "TclError",
     "evalue": "invalid command name \".!canvas\"",
     "output_type": "error",
     "traceback": [
      "\u001b[0;31m---------------------------------------------------------------------------\u001b[0m",
      "\u001b[0;31mTclError\u001b[0m                                  Traceback (most recent call last)",
      "Cell \u001b[0;32mIn [118], line 1\u001b[0m\n\u001b[0;32m----> 1\u001b[0m \u001b[43mfenetre\u001b[49m\u001b[43m(\u001b[49m\u001b[43mn\u001b[49m\u001b[43m,\u001b[49m\u001b[43mm\u001b[49m\u001b[43m,\u001b[49m\u001b[43mrzero\u001b[49m\u001b[43m,\u001b[49m\u001b[43mduree_infection\u001b[49m\u001b[43m,\u001b[49m\u001b[43mduree_vaccin\u001b[49m\u001b[43m,\u001b[49m\u001b[43mtaux_immun\u001b[49m\u001b[43m,\u001b[49m\u001b[43mfreq_depla\u001b[49m\u001b[43m,\u001b[49m\u001b[43mchance_infect\u001b[49m\u001b[43m)\u001b[49m\n",
      "Cell \u001b[0;32mIn [117], line 64\u001b[0m, in \u001b[0;36mfenetre\u001b[0;34m(n, m, rzero, duree_infection, duree_vaccin, taux_immun, freq_depla, chance_infect)\u001b[0m\n\u001b[1;32m     62\u001b[0m     \u001b[38;5;28;01mfor\u001b[39;00m j \u001b[38;5;129;01min\u001b[39;00m \u001b[38;5;28mrange\u001b[39m(\u001b[38;5;241m0\u001b[39m,\u001b[38;5;241m500\u001b[39m,larg_rec):\n\u001b[1;32m     63\u001b[0m         cj \u001b[38;5;241m+\u001b[39m\u001b[38;5;241m=\u001b[39m \u001b[38;5;241m1\u001b[39m \n\u001b[0;32m---> 64\u001b[0m         \u001b[43mfenetre\u001b[49m\u001b[38;5;241;43m.\u001b[39;49m\u001b[43mcanvas\u001b[49m\u001b[38;5;241;43m.\u001b[39;49m\u001b[43mcreate_rectangle\u001b[49m\u001b[43m(\u001b[49m\u001b[43mi\u001b[49m\u001b[43m,\u001b[49m\u001b[43mj\u001b[49m\u001b[43m,\u001b[49m\u001b[43mi\u001b[49m\u001b[38;5;241;43m+\u001b[39;49m\u001b[43mlong_rec\u001b[49m\u001b[43m,\u001b[49m\u001b[43mj\u001b[49m\u001b[38;5;241;43m+\u001b[39;49m\u001b[43mlarg_rec\u001b[49m\u001b[43m,\u001b[49m\u001b[43mfill\u001b[49m\u001b[38;5;241;43m=\u001b[39;49m\u001b[43mcolors\u001b[49m\u001b[43m[\u001b[49m\u001b[43mno_vacc\u001b[49m\u001b[43m[\u001b[49m\u001b[43mcj\u001b[49m\u001b[43m]\u001b[49m\u001b[43m[\u001b[49m\u001b[43mci\u001b[49m\u001b[43m]\u001b[49m\u001b[43m]\u001b[49m\u001b[43m)\u001b[49m\n\u001b[1;32m     65\u001b[0m ci \u001b[38;5;241m=\u001b[39m \u001b[38;5;241m-\u001b[39m\u001b[38;5;241m1\u001b[39m\n\u001b[1;32m     66\u001b[0m cj \u001b[38;5;241m=\u001b[39m \u001b[38;5;241m-\u001b[39m\u001b[38;5;241m1\u001b[39m\n",
      "File \u001b[0;32m/usr/lib/python3.11/tkinter/__init__.py:2862\u001b[0m, in \u001b[0;36mCanvas.create_rectangle\u001b[0;34m(self, *args, **kw)\u001b[0m\n\u001b[1;32m   2860\u001b[0m \u001b[38;5;28;01mdef\u001b[39;00m \u001b[38;5;21mcreate_rectangle\u001b[39m(\u001b[38;5;28mself\u001b[39m, \u001b[38;5;241m*\u001b[39margs, \u001b[38;5;241m*\u001b[39m\u001b[38;5;241m*\u001b[39mkw):\n\u001b[1;32m   2861\u001b[0m \u001b[38;5;250m    \u001b[39m\u001b[38;5;124;03m\"\"\"Create rectangle with coordinates x1,y1,x2,y2.\"\"\"\u001b[39;00m\n\u001b[0;32m-> 2862\u001b[0m     \u001b[38;5;28;01mreturn\u001b[39;00m \u001b[38;5;28;43mself\u001b[39;49m\u001b[38;5;241;43m.\u001b[39;49m\u001b[43m_create\u001b[49m\u001b[43m(\u001b[49m\u001b[38;5;124;43m'\u001b[39;49m\u001b[38;5;124;43mrectangle\u001b[39;49m\u001b[38;5;124;43m'\u001b[39;49m\u001b[43m,\u001b[49m\u001b[43m \u001b[49m\u001b[43margs\u001b[49m\u001b[43m,\u001b[49m\u001b[43m \u001b[49m\u001b[43mkw\u001b[49m\u001b[43m)\u001b[49m\n",
      "File \u001b[0;32m/usr/lib/python3.11/tkinter/__init__.py:2832\u001b[0m, in \u001b[0;36mCanvas._create\u001b[0;34m(self, itemType, args, kw)\u001b[0m\n\u001b[1;32m   2830\u001b[0m \u001b[38;5;28;01melse\u001b[39;00m:\n\u001b[1;32m   2831\u001b[0m     cnf \u001b[38;5;241m=\u001b[39m {}\n\u001b[0;32m-> 2832\u001b[0m \u001b[38;5;28;01mreturn\u001b[39;00m \u001b[38;5;28mself\u001b[39m\u001b[38;5;241m.\u001b[39mtk\u001b[38;5;241m.\u001b[39mgetint(\u001b[38;5;28;43mself\u001b[39;49m\u001b[38;5;241;43m.\u001b[39;49m\u001b[43mtk\u001b[49m\u001b[38;5;241;43m.\u001b[39;49m\u001b[43mcall\u001b[49m\u001b[43m(\u001b[49m\n\u001b[1;32m   2833\u001b[0m \u001b[43m    \u001b[49m\u001b[38;5;28;43mself\u001b[39;49m\u001b[38;5;241;43m.\u001b[39;49m\u001b[43m_w\u001b[49m\u001b[43m,\u001b[49m\u001b[43m \u001b[49m\u001b[38;5;124;43m'\u001b[39;49m\u001b[38;5;124;43mcreate\u001b[39;49m\u001b[38;5;124;43m'\u001b[39;49m\u001b[43m,\u001b[49m\u001b[43m \u001b[49m\u001b[43mitemType\u001b[49m\u001b[43m,\u001b[49m\n\u001b[1;32m   2834\u001b[0m \u001b[43m    \u001b[49m\u001b[38;5;241;43m*\u001b[39;49m\u001b[43m(\u001b[49m\u001b[43margs\u001b[49m\u001b[43m \u001b[49m\u001b[38;5;241;43m+\u001b[39;49m\u001b[43m \u001b[49m\u001b[38;5;28;43mself\u001b[39;49m\u001b[38;5;241;43m.\u001b[39;49m\u001b[43m_options\u001b[49m\u001b[43m(\u001b[49m\u001b[43mcnf\u001b[49m\u001b[43m,\u001b[49m\u001b[43m \u001b[49m\u001b[43mkw\u001b[49m\u001b[43m)\u001b[49m\u001b[43m)\u001b[49m\u001b[43m)\u001b[49m)\n",
      "\u001b[0;31mTclError\u001b[0m: invalid command name \".!canvas\""
     ]
    }
   ],
   "source": [
    "fenetre(n,m,rzero,duree_infection,duree_vaccin,taux_immun,freq_depla,chance_infect)\n"
   ]
  },
  {
   "cell_type": "code",
   "execution_count": null,
   "id": "d149ad09",
   "metadata": {},
   "outputs": [],
   "source": []
  }
 ],
 "metadata": {
  "kernelspec": {
   "display_name": "Python 3 (ipykernel)",
   "language": "python",
   "name": "python3"
  },
  "language_info": {
   "codemirror_mode": {
    "name": "ipython",
    "version": 3
   },
   "file_extension": ".py",
   "mimetype": "text/x-python",
   "name": "python",
   "nbconvert_exporter": "python",
   "pygments_lexer": "ipython3",
   "version": "3.11.2"
  }
 },
 "nbformat": 4,
 "nbformat_minor": 5
}
